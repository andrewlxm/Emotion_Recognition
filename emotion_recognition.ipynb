{
 "cells": [
  {
   "cell_type": "code",
   "execution_count": null,
   "metadata": {},
   "outputs": [],
   "source": [
    "from zipfile import ZipFile\n",
    "file_name = 'archive.zip'\n",
    "\n",
    "with ZipFile(file_name, 'r') as zip:\n",
    "  zip.extractall()\n",
    "  print('Done')"
   ]
  },
  {
   "cell_type": "code",
   "execution_count": 1,
   "metadata": {},
   "outputs": [],
   "source": [
    "import numpy as np\n",
    "import cv2\n",
    "import tensorflow as tf\n",
    "from keras.models import Sequential\n",
    "from keras.layers import Dense, Dropout, Flatten\n",
    "from keras.layers import Conv2D\n",
    "from keras.optimizers import adam_v2\n",
    "from keras.layers import MaxPooling2D\n",
    "from keras.preprocessing.image import ImageDataGenerator\n",
    "import matplotlib.pyplot as plt"
   ]
  },
  {
   "cell_type": "code",
   "execution_count": 3,
   "metadata": {},
   "outputs": [
    {
     "name": "stdout",
     "output_type": "stream",
     "text": [
      "Found 28709 images belonging to 7 classes.\n",
      "Found 7178 images belonging to 7 classes.\n"
     ]
    }
   ],
   "source": [
    "train_dir = 'train'\n",
    "val_dir = 'test'\n",
    "train_datagen = ImageDataGenerator(rescale=1./255)\n",
    "val_datagen = ImageDataGenerator(rescale=1./255)\n",
    "\n",
    "train_generator = train_datagen.flow_from_directory(\n",
    "        train_dir,\n",
    "        target_size=(48,48),\n",
    "        batch_size=64,\n",
    "        color_mode=\"grayscale\",\n",
    "        class_mode='categorical')\n",
    "\n",
    "validation_generator = val_datagen.flow_from_directory(\n",
    "        val_dir,\n",
    "        target_size=(48,48),\n",
    "        batch_size=64,\n",
    "        color_mode=\"grayscale\",\n",
    "        class_mode='categorical')"
   ]
  },
  {
   "cell_type": "code",
   "execution_count": 5,
   "metadata": {},
   "outputs": [
    {
     "name": "stdout",
     "output_type": "stream",
     "text": [
      "<keras.preprocessing.image.DirectoryIterator object at 0x000001D23724C850>\n"
     ]
    }
   ],
   "source": []
  },
  {
   "cell_type": "code",
   "execution_count": 4,
   "metadata": {},
   "outputs": [],
   "source": [
    "emotion_model = Sequential()\n",
    "emotion_model.add(Conv2D(32, kernel_size=(3, 3), activation='relu', input_shape=(48,48,1)))\n",
    "emotion_model.add(Conv2D(64, kernel_size=(3, 3), activation='relu'))\n",
    "emotion_model.add(MaxPooling2D(pool_size=(2, 2)))\n",
    "emotion_model.add(Dropout(0.25))\n",
    "emotion_model.add(Conv2D(128, kernel_size=(3, 3), activation='relu'))\n",
    "emotion_model.add(MaxPooling2D(pool_size=(2, 2)))\n",
    "emotion_model.add(Conv2D(128, kernel_size=(3, 3), activation='relu'))\n",
    "emotion_model.add(MaxPooling2D(pool_size=(2, 2)))\n",
    "emotion_model.add(Dropout(0.25))\n",
    "emotion_model.add(Flatten())\n",
    "emotion_model.add(Dense(1024, activation='relu'))\n",
    "emotion_model.add(Dropout(0.5))\n",
    "emotion_model.add(Dense(7, activation='softmax'))"
   ]
  },
  {
   "cell_type": "code",
   "execution_count": 8,
   "metadata": {},
   "outputs": [],
   "source": [
    "opt = tf.keras.optimizers.Adam(learning_rate=0.0001, decay = 1e-6)"
   ]
  },
  {
   "cell_type": "code",
   "execution_count": 9,
   "metadata": {},
   "outputs": [
    {
     "name": "stderr",
     "output_type": "stream",
     "text": [
      "C:\\Users\\MSI\\AppData\\Local\\Temp/ipykernel_1596/3964121614.py:2: UserWarning: `Model.fit_generator` is deprecated and will be removed in a future version. Please use `Model.fit`, which supports generators.\n",
      "  emotion_model_info = emotion_model.fit_generator(\n"
     ]
    },
    {
     "name": "stdout",
     "output_type": "stream",
     "text": [
      "Epoch 1/50\n",
      "448/448 [==============================] - 280s 625ms/step - loss: 1.8043 - accuracy: 0.2553 - val_loss: 1.7227 - val_accuracy: 0.3319\n",
      "Epoch 2/50\n",
      "448/448 [==============================] - 197s 439ms/step - loss: 1.6275 - accuracy: 0.3667 - val_loss: 1.5264 - val_accuracy: 0.4233\n",
      "Epoch 3/50\n",
      "448/448 [==============================] - 193s 431ms/step - loss: 1.5162 - accuracy: 0.4177 - val_loss: 1.4402 - val_accuracy: 0.4523\n",
      "Epoch 4/50\n",
      "448/448 [==============================] - 192s 428ms/step - loss: 1.4426 - accuracy: 0.4484 - val_loss: 1.3809 - val_accuracy: 0.4777\n",
      "Epoch 5/50\n",
      "448/448 [==============================] - 193s 431ms/step - loss: 1.3817 - accuracy: 0.4731 - val_loss: 1.3259 - val_accuracy: 0.4987\n",
      "Epoch 6/50\n",
      "448/448 [==============================] - 197s 439ms/step - loss: 1.3271 - accuracy: 0.4968 - val_loss: 1.2874 - val_accuracy: 0.5114\n",
      "Epoch 7/50\n",
      "448/448 [==============================] - 194s 434ms/step - loss: 1.2880 - accuracy: 0.5110 - val_loss: 1.2617 - val_accuracy: 0.5173\n",
      "Epoch 8/50\n",
      "448/448 [==============================] - 198s 442ms/step - loss: 1.2498 - accuracy: 0.5307 - val_loss: 1.2302 - val_accuracy: 0.5371\n",
      "Epoch 9/50\n",
      "448/448 [==============================] - 192s 429ms/step - loss: 1.2153 - accuracy: 0.5427 - val_loss: 1.2022 - val_accuracy: 0.5437\n",
      "Epoch 10/50\n",
      "448/448 [==============================] - 191s 425ms/step - loss: 1.1800 - accuracy: 0.5562 - val_loss: 1.1899 - val_accuracy: 0.5505\n",
      "Epoch 11/50\n",
      "448/448 [==============================] - 192s 428ms/step - loss: 1.1547 - accuracy: 0.5664 - val_loss: 1.1804 - val_accuracy: 0.5555\n",
      "Epoch 12/50\n",
      "448/448 [==============================] - 194s 433ms/step - loss: 1.1282 - accuracy: 0.5767 - val_loss: 1.1512 - val_accuracy: 0.5664\n",
      "Epoch 13/50\n",
      "448/448 [==============================] - 192s 429ms/step - loss: 1.1016 - accuracy: 0.5867 - val_loss: 1.1357 - val_accuracy: 0.5727\n",
      "Epoch 14/50\n",
      "448/448 [==============================] - 192s 428ms/step - loss: 1.0749 - accuracy: 0.5995 - val_loss: 1.1342 - val_accuracy: 0.5713\n",
      "Epoch 15/50\n",
      "448/448 [==============================] - 191s 427ms/step - loss: 1.0564 - accuracy: 0.6028 - val_loss: 1.1113 - val_accuracy: 0.5811\n",
      "Epoch 16/50\n",
      "448/448 [==============================] - 193s 431ms/step - loss: 1.0275 - accuracy: 0.6185 - val_loss: 1.1063 - val_accuracy: 0.5819\n",
      "Epoch 17/50\n",
      "448/448 [==============================] - 191s 427ms/step - loss: 1.0044 - accuracy: 0.6276 - val_loss: 1.1081 - val_accuracy: 0.5862\n",
      "Epoch 18/50\n",
      "448/448 [==============================] - 193s 430ms/step - loss: 0.9877 - accuracy: 0.6318 - val_loss: 1.1050 - val_accuracy: 0.5837\n",
      "Epoch 19/50\n",
      "448/448 [==============================] - 193s 432ms/step - loss: 0.9610 - accuracy: 0.6443 - val_loss: 1.0891 - val_accuracy: 0.5919\n",
      "Epoch 20/50\n",
      "448/448 [==============================] - 195s 434ms/step - loss: 0.9382 - accuracy: 0.6511 - val_loss: 1.0788 - val_accuracy: 0.6020\n",
      "Epoch 21/50\n",
      "448/448 [==============================] - 192s 429ms/step - loss: 0.9157 - accuracy: 0.6633 - val_loss: 1.0852 - val_accuracy: 0.5995\n",
      "Epoch 22/50\n",
      "448/448 [==============================] - 193s 432ms/step - loss: 0.8906 - accuracy: 0.6694 - val_loss: 1.0703 - val_accuracy: 0.6052\n",
      "Epoch 23/50\n",
      "448/448 [==============================] - 192s 429ms/step - loss: 0.8686 - accuracy: 0.6798 - val_loss: 1.0659 - val_accuracy: 0.6070\n",
      "Epoch 24/50\n",
      "448/448 [==============================] - 190s 425ms/step - loss: 0.8405 - accuracy: 0.6928 - val_loss: 1.0708 - val_accuracy: 0.6074\n",
      "Epoch 25/50\n",
      "448/448 [==============================] - 195s 434ms/step - loss: 0.8235 - accuracy: 0.6982 - val_loss: 1.0684 - val_accuracy: 0.6095\n",
      "Epoch 26/50\n",
      "448/448 [==============================] - 194s 434ms/step - loss: 0.8003 - accuracy: 0.7068 - val_loss: 1.0604 - val_accuracy: 0.6083\n",
      "Epoch 27/50\n",
      "448/448 [==============================] - 192s 429ms/step - loss: 0.7776 - accuracy: 0.7140 - val_loss: 1.0791 - val_accuracy: 0.6127\n",
      "Epoch 28/50\n",
      "448/448 [==============================] - 192s 429ms/step - loss: 0.7556 - accuracy: 0.7247 - val_loss: 1.0636 - val_accuracy: 0.6184\n",
      "Epoch 29/50\n",
      "448/448 [==============================] - 193s 430ms/step - loss: 0.7330 - accuracy: 0.7351 - val_loss: 1.0814 - val_accuracy: 0.6191\n",
      "Epoch 30/50\n",
      "448/448 [==============================] - 195s 435ms/step - loss: 0.7021 - accuracy: 0.7437 - val_loss: 1.0756 - val_accuracy: 0.6217\n",
      "Epoch 31/50\n",
      "448/448 [==============================] - 195s 434ms/step - loss: 0.6843 - accuracy: 0.7523 - val_loss: 1.0706 - val_accuracy: 0.6219\n",
      "Epoch 32/50\n",
      "448/448 [==============================] - 192s 429ms/step - loss: 0.6650 - accuracy: 0.7581 - val_loss: 1.0859 - val_accuracy: 0.6166\n",
      "Epoch 33/50\n",
      "448/448 [==============================] - 192s 429ms/step - loss: 0.6409 - accuracy: 0.7648 - val_loss: 1.0878 - val_accuracy: 0.6175\n",
      "Epoch 34/50\n",
      "448/448 [==============================] - 193s 430ms/step - loss: 0.6196 - accuracy: 0.7756 - val_loss: 1.1026 - val_accuracy: 0.6229\n",
      "Epoch 35/50\n",
      "448/448 [==============================] - 194s 434ms/step - loss: 0.5997 - accuracy: 0.7806 - val_loss: 1.1088 - val_accuracy: 0.6154\n",
      "Epoch 36/50\n",
      "448/448 [==============================] - 194s 432ms/step - loss: 0.5828 - accuracy: 0.7886 - val_loss: 1.0984 - val_accuracy: 0.6236\n",
      "Epoch 37/50\n",
      "448/448 [==============================] - 192s 428ms/step - loss: 0.5681 - accuracy: 0.7949 - val_loss: 1.0927 - val_accuracy: 0.6207\n",
      "Epoch 38/50\n",
      "448/448 [==============================] - 190s 424ms/step - loss: 0.5481 - accuracy: 0.8028 - val_loss: 1.1201 - val_accuracy: 0.6242\n",
      "Epoch 39/50\n",
      "448/448 [==============================] - 193s 430ms/step - loss: 0.5292 - accuracy: 0.8099 - val_loss: 1.1082 - val_accuracy: 0.6304\n",
      "Epoch 40/50\n",
      "448/448 [==============================] - 194s 432ms/step - loss: 0.5097 - accuracy: 0.8155 - val_loss: 1.1277 - val_accuracy: 0.6265\n",
      "Epoch 41/50\n",
      "448/448 [==============================] - 192s 428ms/step - loss: 0.4932 - accuracy: 0.8245 - val_loss: 1.1334 - val_accuracy: 0.6251\n",
      "Epoch 42/50\n",
      "448/448 [==============================] - 192s 428ms/step - loss: 0.4767 - accuracy: 0.8281 - val_loss: 1.1575 - val_accuracy: 0.6253\n",
      "Epoch 43/50\n",
      "448/448 [==============================] - 192s 429ms/step - loss: 0.4620 - accuracy: 0.8316 - val_loss: 1.1505 - val_accuracy: 0.6272\n",
      "Epoch 44/50\n",
      "448/448 [==============================] - 195s 435ms/step - loss: 0.4536 - accuracy: 0.8379 - val_loss: 1.1572 - val_accuracy: 0.6223\n",
      "Epoch 45/50\n",
      "448/448 [==============================] - 192s 428ms/step - loss: 0.4270 - accuracy: 0.8451 - val_loss: 1.1804 - val_accuracy: 0.6268\n",
      "Epoch 46/50\n",
      "448/448 [==============================] - 192s 428ms/step - loss: 0.4200 - accuracy: 0.8485 - val_loss: 1.1739 - val_accuracy: 0.6233\n",
      "Epoch 47/50\n",
      "448/448 [==============================] - 188s 420ms/step - loss: 0.4125 - accuracy: 0.8507 - val_loss: 1.1837 - val_accuracy: 0.6229\n",
      "Epoch 48/50\n",
      "448/448 [==============================] - 189s 421ms/step - loss: 0.3925 - accuracy: 0.8583 - val_loss: 1.1990 - val_accuracy: 0.6244\n",
      "Epoch 49/50\n",
      "448/448 [==============================] - 195s 435ms/step - loss: 0.3782 - accuracy: 0.8640 - val_loss: 1.2154 - val_accuracy: 0.6267\n",
      "Epoch 50/50\n",
      "448/448 [==============================] - 193s 431ms/step - loss: 0.3701 - accuracy: 0.8669 - val_loss: 1.2174 - val_accuracy: 0.6230\n"
     ]
    }
   ],
   "source": [
    "emotion_model.compile(loss='categorical_crossentropy',optimizer=opt,metrics=['accuracy'])\n",
    "emotion_model_info = emotion_model.fit_generator(\n",
    "        train_generator,\n",
    "        steps_per_epoch=28709 // 64,\n",
    "        epochs=50,\n",
    "        validation_data=validation_generator,\n",
    "        validation_steps=7178 // 64)"
   ]
  },
  {
   "cell_type": "code",
   "execution_count": 10,
   "metadata": {},
   "outputs": [],
   "source": [
    "emotion_model.save('model.h5')"
   ]
  },
  {
   "cell_type": "code",
   "execution_count": 11,
   "metadata": {},
   "outputs": [],
   "source": [
    "def emotion_predict(emotions):\n",
    "    objects = ('angry', 'disgust', 'fear', 'happy', 'sad', 'surprise', 'neutral')\n",
    "    y_pos = np.arange(len(objects))\n",
    "    \n",
    "    plt.bar(y_pos, emotions, align = 'center', alpha = 0.5)\n",
    "    plt.xticks(y_pos, objects)\n",
    "    plt.ylabel('percentage')\n",
    "    plt.title('emotion')\n",
    "    \n",
    "    plt.show()"
   ]
  },
  {
   "cell_type": "code",
   "execution_count": 35,
   "metadata": {},
   "outputs": [
    {
     "data": {
      "image/png": "[encoded data removed]",
      "text/plain": [
       "<Figure size 432x288 with 1 Axes>"
      ]
     },
     "metadata": {
      "needs_background": "light"
     },
     "output_type": "display_data"
    },
    {
     "data": {
      "image/png": "[encoded data removed]",
      "text/plain": [
       "<Figure size 432x288 with 1 Axes>"
      ]
     },
     "metadata": {
      "needs_background": "light"
     },
     "output_type": "display_data"
    }
   ],
   "source": [
    "def facecrop(image):  \n",
    "    facedata = 'test/haarcascade_frontalface_alt.xml'\n",
    "    cascade = cv2.CascadeClassifier(facedata)\n",
    "\n",
    "    img = cv2.imread(image)\n",
    "\n",
    "    try:\n",
    "    \n",
    "        minisize = (img.shape[1],img.shape[0])\n",
    "        miniframe = cv2.resize(img, minisize)\n",
    "\n",
    "        faces = cascade.detectMultiScale(miniframe)\n",
    "\n",
    "        for f in faces:\n",
    "            x, y, w, h = [ v for v in f ]\n",
    "            cv2.rectangle(img, (x,y), (x+w,y+h), (0,255,0), 2)\n",
    "\n",
    "            sub_face = img[y:y+h, x:x+w]\n",
    "\n",
    "            \n",
    "            cv2.imwrite('capture.jpg', sub_face)\n",
    "            #print (\"Writing: \" + image)\n",
    "\n",
    "    except Exception as e:\n",
    "        print (e)\n",
    "\n",
    "   \n",
    "\n",
    "\n",
    "if __name__ == '__main__':\n",
    "    facecrop('test/happy/PrivateTest_10516065.jpg')\n",
    "\n",
    "#Testing a file.\n",
    "\n",
    "from keras.preprocessing import image\n",
    "from keras.preprocessing.image import ImageDataGenerator\n",
    "\n",
    "import numpy as np\n",
    "import matplotlib.pyplot as plt\n",
    "\n",
    "file = 'test/happy/PrivateTest_13051954.jpg'\n",
    "true_image = tf.keras.utils.load_img(file)\n",
    "img = tf.keras.utils.load_img(file, color_mode=\"grayscale\", target_size=(48, 48))\n",
    "\n",
    "x = tf.keras.utils.img_to_array(img)\n",
    "x = np.expand_dims(x, axis = 0)\n",
    "\n",
    "x /= 255\n",
    "\n",
    "custom = emotion_model.predict(x)\n",
    "emotion_predict(custom[0])\n",
    "\n",
    "x = np.array(x, 'float32')\n",
    "x = x.reshape([48, 48]);\n",
    "\n",
    "\n",
    "plt.imshow(true_image)\n",
    "plt.show()"
   ]
  }
 ],
 "metadata": {
  "kernelspec": {
   "display_name": "Python 3.9.0 64-bit",
   "language": "python",
   "name": "python3"
  },
  "language_info": {
   "codemirror_mode": {
    "name": "ipython",
    "version": 3
   },
   "file_extension": ".py",
   "mimetype": "text/x-python",
   "name": "python",
   "nbconvert_exporter": "python",
   "pygments_lexer": "ipython3",
   "version": "3.9.0"
  },
  "orig_nbformat": 4,
  "vscode": {
   "interpreter": {
    "hash": "7631773df7a20f76ce0129852d6286a048d5c426a0098a673052d93f81596669"
   }
  }
 },
 "nbformat": 4,
 "nbformat_minor": 2
}
